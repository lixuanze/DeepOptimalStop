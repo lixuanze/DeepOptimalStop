{
 "cells": [
  {
   "cell_type": "markdown",
   "metadata": {},
   "source": [
    "## Make imports"
   ]
  },
  {
   "cell_type": "code",
   "execution_count": 1,
   "metadata": {},
   "outputs": [],
   "source": [
    "import tensorflow as tf"
   ]
  },
  {
   "cell_type": "code",
   "execution_count": 2,
   "metadata": {},
   "outputs": [
    {
     "data": {
      "text/plain": [
       "[PhysicalDevice(name='/physical_device:GPU:0', device_type='GPU')]"
      ]
     },
     "execution_count": 2,
     "metadata": {},
     "output_type": "execute_result"
    }
   ],
   "source": [
    "# check if gpu is available\n",
    "tf.config.experimental.list_physical_devices('GPU')\n",
    "tf.debugging.set_log_device_placement(True)"
   ]
  },
  {
   "cell_type": "markdown",
   "metadata": {},
   "source": [
    "## Simulation functions"
   ]
  },
  {
   "cell_type": "code",
   "execution_count": 606,
   "metadata": {},
   "outputs": [],
   "source": [
    "def multiBrownian(M, N, dim, T):\n",
    "    '''\n",
    "    A multidimensional independent Brownian motion.\n",
    "    M: Number of samples.\n",
    "    N: Number of periods.\n",
    "    dim: Dimension of the brownian motion.\n",
    "    T: Time interval\n",
    "    '''\n",
    "    \n",
    "    dt = tf.convert_to_tensor(T / (N-1), dtype=tf.float64)\n",
    "    Z = tf.math.sqrt(dt) * tf.random.normal((M, N, dim), dtype=tf.float64)\n",
    "    return tf.math.cumsum(Z, axis=1, exclusive=True)\n",
    "\n",
    "def geometricBM(nb_samples, nb_periods, dim, T, S0, rate, div_yield, sigma, corr):\n",
    "    '''\n",
    "    This function will simulate a geometric BM\n",
    "    \n",
    "    S0: Initial value. shape = (dim)\n",
    "    rate: Risk free interest rate (scalar).\n",
    "    div_yield: Dividends yields. shape = (dim)\n",
    "    sigma: Volatilities. shape = (dim)\n",
    "    corr: Correlation matrix. shape = (dim, dim) \n",
    "    '''\n",
    "    # convert to tensor\n",
    "    S0 = tf.convert_to_tensor(S0, dtype=tf.float64)\n",
    "    div_yield = tf.convert_to_tensor(div_yield, dtype=tf.float64)\n",
    "    sigma = tf.convert_to_tensor(sigma, dtype=tf.float64)\n",
    "    corr = tf.convert_to_tensor(corr, dtype=tf.float64)\n",
    "        \n",
    "    # time grid\n",
    "    t = tf.range(0, T + T / nb_periods, T / (nb_periods - 1), dtype=tf.float64) \n",
    "    t = tf.reshape(t, [nb_periods, 1])\n",
    "    \n",
    "    # drift\n",
    "    u = rate - div_yield - sigma ** 2 / 2\n",
    "    u = tf.reshape(u, [1, dim])\n",
    "\n",
    "    # get brownian motion\n",
    "    BM = multiBrownian(nb_samples, nb_periods, dim, T)    \n",
    "    \n",
    "    if dim > 1:\n",
    "        # covariance matrix -------------------\n",
    "        #temp = sigma[None] * sigma[:, None]\n",
    "        #cov = tf.multiply(temp, corr)\n",
    "        #A = tf.linalg.cholesky(cov)\n",
    "\n",
    "        # or\n",
    "        sigma_ = tf.reshape(sigma, [dim, 1])\n",
    "        A = tf.linalg.cholesky(corr)\n",
    "        A = tf.multiply(A, sigma_)\n",
    "        # -------------------------------------        \n",
    "        diffusion_term = tf.linalg.matvec(A, BM)  \n",
    "    else:\n",
    "        diffusion_term = BM\n",
    "        \n",
    "    res = tf.math.exp(u*t + diffusion_term)    \n",
    "    return S0 * res"
   ]
  },
  {
   "cell_type": "markdown",
   "metadata": {},
   "source": [
    "## Test simulation"
   ]
  },
  {
   "cell_type": "code",
   "execution_count": 603,
   "metadata": {
    "scrolled": true
   },
   "outputs": [
    {
     "name": "stdout",
     "output_type": "stream",
     "text": [
      "test\n"
     ]
    },
    {
     "data": {
      "text/plain": [
       "[<matplotlib.lines.Line2D at 0x1f39ca19ca0>]"
      ]
     },
     "execution_count": 603,
     "metadata": {},
     "output_type": "execute_result"
    },
    {
     "data": {
      "image/png": "[encoded data removed]",
      "text/plain": [
       "<Figure size 432x288 with 1 Axes>"
      ]
     },
     "metadata": {
      "needs_background": "light"
     },
     "output_type": "display_data"
    }
   ],
   "source": [
    "import matplotlib.pyplot as plt\n",
    "\n",
    "nb_periods = 1000\n",
    "dim = 2\n",
    "T = 1\n",
    "S0 = (1, 1)\n",
    "corr = [[1.000000001, -1],\n",
    "        [-1, 1.000000001]]\n",
    "sigma = (0.2, 0.2)\n",
    "div_yield = 0\n",
    "rate = 0.2\n",
    "\n",
    "x = geometricBM(1, nb_periods, dim, T, S0, rate, 0, sigma, corr)\n",
    "x = tf.reshape(x, [nb_periods, dim]).numpy()\n",
    "x = tf.transpose(x)\n",
    "\n",
    "t = np.linspace(0, 1, N)\n",
    "plt.plot(t, x[0])\n",
    "plt.plot(t, x[1])"
   ]
  },
  {
   "cell_type": "markdown",
   "metadata": {},
   "source": [
    "## Test martingality"
   ]
  },
  {
   "cell_type": "code",
   "execution_count": 624,
   "metadata": {},
   "outputs": [],
   "source": [
    "nb_periods = 10\n",
    "nb_samples = 1000000\n",
    "dim = 2\n",
    "T = 1\n",
    "S0 = (1, 2)\n",
    "corr = [[1, 0],\n",
    "        [0, 1]]\n",
    "sigma = (0.2, 0.2)\n",
    "div_yield = 0\n",
    "rate = 0.02\n",
    "\n",
    "x = geometricBM(nb_samples, nb_periods, dim, T, S0, rate, 0, sigma, corr)"
   ]
  },
  {
   "cell_type": "code",
   "execution_count": 625,
   "metadata": {},
   "outputs": [
    {
     "data": {
      "text/plain": [
       "<tf.Tensor: shape=(10, 2), dtype=float64, numpy=\n",
       "array([[1.        , 2.        ],\n",
       "       [1.00220812, 2.00436924],\n",
       "       [1.00427976, 2.00861439],\n",
       "       [1.00659135, 2.01310018],\n",
       "       [1.00881098, 2.01758773],\n",
       "       [1.0110464 , 2.0221234 ],\n",
       "       [1.01327573, 2.02689638],\n",
       "       [1.01546998, 2.03145406],\n",
       "       [1.0178335 , 2.03604567],\n",
       "       [1.01999709, 2.04058714]])>"
      ]
     },
     "execution_count": 625,
     "metadata": {},
     "output_type": "execute_result"
    }
   ],
   "source": [
    "tf.reduce_mean(x, axis=0)"
   ]
  },
  {
   "cell_type": "code",
   "execution_count": null,
   "metadata": {},
   "outputs": [],
   "source": []
  }
 ],
 "metadata": {
  "kernelspec": {
   "display_name": "Python 3",
   "language": "python",
   "name": "python3"
  },
  "language_info": {
   "codemirror_mode": {
    "name": "ipython",
    "version": 3
   },
   "file_extension": ".py",
   "mimetype": "text/x-python",
   "name": "python",
   "nbconvert_exporter": "python",
   "pygments_lexer": "ipython3",
   "version": "3.8.2"
  }
 },
 "nbformat": 4,
 "nbformat_minor": 4
}
